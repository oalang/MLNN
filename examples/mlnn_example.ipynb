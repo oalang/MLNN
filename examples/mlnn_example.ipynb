{
 "cells": [
  {
   "cell_type": "code",
   "execution_count": null,
   "metadata": {},
   "outputs": [],
   "source": [
    "import sys\n",
    "import os\n",
    "\n",
    "current_dir = os.getcwd()\n",
    "project_path = os.path.join(current_dir, '..')\n",
    "sys.path.append(project_path)"
   ]
  },
  {
   "cell_type": "code",
   "execution_count": null,
   "metadata": {},
   "outputs": [],
   "source": [
    "%matplotlib ipympl\n",
    "\n",
    "import matplotlib.pyplot as plt\n",
    "import numpy as np\n",
    "import loss\n",
    "from mlnn.engine import MLNNEngine\n",
    "from mlnn.callback import MLNNCallback\n",
    "from mlnn.optimize import MLNNSteepestDescent, MLNNBFGS\n",
    "\n",
    "from sklearn.datasets import load_wine\n",
    "from sklearn.model_selection import StratifiedShuffleSplit\n",
    "from sklearn.pipeline import Pipeline\n",
    "from sklearn.preprocessing import StandardScaler\n",
    "from sklearn.decomposition import PCA\n",
    "from sklearn.neighbors import KNeighborsClassifier\n",
    "from sklearn.metrics import accuracy_score"
   ]
  },
  {
   "cell_type": "code",
   "execution_count": null,
   "metadata": {},
   "outputs": [],
   "source": [
    "data = load_wine()\n",
    "\n",
    "X_original = np.array(data['data'])\n",
    "Y_original = np.array(data['target'], dtype=int)\n",
    "\n",
    "split = StratifiedShuffleSplit(n_splits=1, test_size=0.3, random_state=42)\n",
    "for train_index, test_index in split.split(X_original, Y_original):\n",
    "    X_train, Y_train = X_original[train_index, :], Y_original[train_index]\n",
    "    X_test, Y_test = X_original[test_index, :], Y_original[test_index]\n",
    "\n",
    "X_train, Y_train = X_original, Y_original\n",
    "X_test, Y_test = X_original, Y_original\n",
    "\n",
    "pipeline = Pipeline([('std_scaler', StandardScaler())])\n",
    "X_train_scaled = pipeline.fit_transform(X_train)\n",
    "X_test_scaled = pipeline.transform(X_test)\n",
    "\n",
    "pca = PCA(n_components=2)\n",
    "X_train_2D = pca.fit_transform(X_train_scaled)\n",
    "\n",
    "fig, ax = plt.subplots(1, 1, figsize=(4, 4))\n",
    "ax.scatter(X_train_2D[:, 0], X_train_2D[:, 1], c=Y_train)\n",
    "\n",
    "fig.tight_layout()\n",
    "plt.show()"
   ]
  },
  {
   "cell_type": "code",
   "execution_count": null,
   "metadata": {},
   "outputs": [],
   "source": [
    "knn = KNeighborsClassifier(3)\n",
    "knn.fit(X_train_scaled, Y_train)\n",
    "Y_test_pred = knn.predict(X_test_scaled)\n",
    "accuracy = accuracy_score(Y_test, Y_test_pred)\n",
    "print(f\"accuracy = {accuracy: .3f}\")"
   ]
  },
  {
   "cell_type": "code",
   "execution_count": null,
   "metadata": {},
   "outputs": [],
   "source": [
    "rbf = False\n",
    "\n",
    "kernel = 'linear'\n",
    "#kernel = 'nonlinear'\n",
    "\n",
    "#a_mode = 'full'\n",
    "#a_mode = 'diagonal'\n",
    "a_mode = 'decomposed'\n",
    "\n",
    "e_mode = 'single'\n",
    "#e_mode = 'multiple'\n",
    "\n",
    "#i_mode = 'zero'\n",
    "#i_mode = 'random'\n",
    "#i_mode = 'centered'\n",
    "#i_mode = 'identity'\n",
    "i_mode = 'pca'\n",
    "\n",
    "keep_a_psd = False\n",
    "keep_a_centered = False\n",
    "keep_e_positive = False\n",
    "reduce_derivative_matrix = False\n",
    "check_array_equal = False\n",
    "\n",
    "n_components = 2\n",
    "\n",
    "r = 1\n",
    "s = 0\n",
    "l = 1\n",
    "q = 1\n",
    "inner_loss = loss.SmoothReLU(.5)\n",
    "outer_loss = loss.SmoothReLU(.5)\n",
    "#outer_loss = None\n",
    "\n",
    "optimize_method = 'fixed'\n",
    "initialization = i_mode\n",
    "min_delta_F = 1e-6\n",
    "max_steps = 10\n",
    "max_time = 1000\n",
    "fixed_arguments = 'AE'\n",
    "max_arg_steps = 5\n",
    "\n",
    "line_search_method = 'backtracking'\n",
    "use_prev_f = False\n",
    "alpha_0 = 1e-3\n",
    "armijo = 1e-6\n",
    "wolfe = .9\n",
    "max_ls_iterations = 20"
   ]
  },
  {
   "cell_type": "code",
   "execution_count": null,
   "metadata": {},
   "outputs": [],
   "source": [
    "X = X_train_scaled\n",
    "Y = Y_train\n",
    "\n",
    "sigma2 = 10 ** 1.12\n",
    "P = X @ X.T\n",
    "D = P.diagonal().reshape(-1, 1) + P.diagonal().reshape(1, -1) - 2 * P\n",
    "G = np.exp(D / (-2 * sigma2))"
   ]
  },
  {
   "cell_type": "code",
   "execution_count": null,
   "metadata": {},
   "outputs": [],
   "source": [
    "if kernel == 'linear':\n",
    "    B = X\n",
    "elif kernel == 'nonlinear':\n",
    "    if rbf:\n",
    "        B = G\n",
    "    else:\n",
    "        B = G\n",
    "\n",
    "if kernel == 'linear':\n",
    "    C = None\n",
    "elif kernel == 'nonlinear':\n",
    "    #C = B\n",
    "    C = None"
   ]
  },
  {
   "cell_type": "code",
   "execution_count": null,
   "metadata": {},
   "outputs": [],
   "source": [
    "mlnn_params = {\n",
    "    'r': r,\n",
    "    's': s,\n",
    "    'l': l,\n",
    "    'q': q,\n",
    "    'inner_loss': inner_loss,\n",
    "    'outer_loss': outer_loss,\n",
    "    'kernel': kernel,\n",
    "    'a_mode': a_mode,\n",
    "    'e_mode': e_mode,\n",
    "    'keep_a_psd': keep_a_psd,\n",
    "    'keep_a_centered': keep_a_centered,\n",
    "    'keep_e_positive': keep_e_positive,\n",
    "    'reduce_derivative_matrix': reduce_derivative_matrix,\n",
    "    'check_array_equal': check_array_equal,\n",
    "}\n",
    "\n",
    "optimize_params = {\n",
    "    'optimize_method': optimize_method,\n",
    "    'initialization': initialization,\n",
    "    'min_delta_F': min_delta_F,\n",
    "    'max_steps': max_steps,\n",
    "    'max_time': max_time,\n",
    "    'fixed_arguments': fixed_arguments,\n",
    "    'max_arg_steps': max_arg_steps,\n",
    "}\n",
    "\n",
    "line_search_params = {\n",
    "    'line_search_method': line_search_method,\n",
    "    'use_prev_f': use_prev_f,\n",
    "    'alpha_0': alpha_0,\n",
    "    'armijo': armijo,\n",
    "    'wolfe': wolfe,\n",
    "    'max_ls_iterations': max_ls_iterations,\n",
    "}"
   ]
  },
  {
   "cell_type": "code",
   "execution_count": null,
   "metadata": {},
   "outputs": [],
   "source": [
    "mlnn = MLNNEngine(B, Y, C, mlnn_params)\n",
    "#callback = MLNNCallback(print_stats=True)\n",
    "callback = MLNNCallback(show_figures=True)\n",
    "optimizer = MLNNSteepestDescent(mlnn, callback=callback, n_components=n_components,\n",
    "                                optimize_params=optimize_params,\n",
    "                                line_search_params=line_search_params)\n",
    "optimizer.minimize(verbose=False)\n",
    "#optimizer.report()"
   ]
  },
  {
   "cell_type": "code",
   "execution_count": null,
   "metadata": {},
   "outputs": [],
   "source": [
    "line_search_params['line_search_method'] = 'strong_wolfe'\n",
    "mlnn = MLNNEngine(B, Y, C, mlnn_params)\n",
    "callback = MLNNCallback(print_stats=True)\n",
    "optimizer = MLNNSteepestDescent(mlnn, callback=callback, n_components=n_components,\n",
    "                                optimize_params=optimize_params,\n",
    "                                line_search_params=line_search_params)\n",
    "optimizer.minimize(verbose=False)\n",
    "optimizer.report()"
   ]
  },
  {
   "cell_type": "code",
   "execution_count": null,
   "metadata": {},
   "outputs": [],
   "source": [
    "mlnn = MLNNEngine(B, Y, C, mlnn_params)\n",
    "callback = MLNNCallback(print_stats=True)\n",
    "optimizer = MLNNBFGS(mlnn, callback=callback, n_components=n_components,\n",
    "                     optimize_params=optimize_params,\n",
    "                     line_search_params=line_search_params)\n",
    "optimizer.minimize(verbose=False)\n",
    "optimizer.report()"
   ]
  },
  {
   "cell_type": "code",
   "execution_count": null,
   "metadata": {},
   "outputs": [],
   "source": [
    "X = np.random.randint(0, 10, (5, 2))\n",
    "A = np.array([1, 2, 4])\n",
    "T = np.full(X.shape[0], False)\n",
    "T[A] = True\n",
    "X, A, X[A, :], T, X[T, 0], X[~T, 0]"
   ]
  },
  {
   "cell_type": "code",
   "execution_count": null,
   "metadata": {},
   "outputs": [],
   "source": [
    "\n",
    "active = np.full(X.shape[0], False)\n",
    "active[self.optimizer.mlnn.subset_active_rows] = True\n",
    "artist1 = self.ax1.scatter(X[~active, 0], X[~active, 1]"
   ]
  },
  {
   "cell_type": "code",
   "execution_count": null,
   "metadata": {},
   "outputs": [],
   "source": [
    "A = np.array([4,2,-3,-5])\n",
    "B = np.diag(A)\n",
    "B[1,2] = 7\n",
    "B[3,2] = 8\n",
    "C, D = np.linalg.eigh(B)\n",
    "np.vstack((D, np.zeros((0, 4))))\n",
    "E = B.copy()\n",
    "E[[2,3]] *= -1\n",
    "B, E, B[2]"
   ]
  },
  {
   "cell_type": "code",
   "execution_count": null,
   "metadata": {},
   "outputs": [],
   "source": [
    "def make_first_nonzero_nonnegative(arr):\n",
    "    # Create a boolean mask for where the first nonzero elements are negative\n",
    "    first_nonzero_indices = np.argmax(arr != 0, axis=1)  # Find the index of the first nonzero element in each row\n",
    "    first_nonzero_elements = arr[np.arange(arr.shape[0]), first_nonzero_indices]  # Get the first nonzero element in each row\n",
    "\n",
    "    # Identify rows where the first nonzero element is negative\n",
    "    negative_rows = first_nonzero_elements < 0\n",
    "\n",
    "    # Multiply those rows by -1 to make their first nonzero element nonnegative\n",
    "    arr[negative_rows] *= -1\n",
    "\n",
    "    return arr\n",
    "\n",
    "# Example usage\n",
    "arr = np.array([\n",
    "    [0, -1, 2],\n",
    "    [-3, 4, 0],\n",
    "    [1, -5, 6]\n",
    "])\n",
    "\n",
    "result = make_first_nonzero_nonnegative(arr)\n",
    "print(result)"
   ]
  },
  {
   "cell_type": "code",
   "execution_count": null,
   "metadata": {},
   "outputs": [],
   "source": [
    "Y.reshape(-1,1).ndim"
   ]
  }
 ],
 "metadata": {
  "kernelspec": {
   "display_name": ".venv",
   "language": "python",
   "name": "python3"
  },
  "language_info": {
   "codemirror_mode": {
    "name": "ipython",
    "version": 3
   },
   "file_extension": ".py",
   "mimetype": "text/x-python",
   "name": "python",
   "nbconvert_exporter": "python",
   "pygments_lexer": "ipython3",
   "version": "3.9.6"
  }
 },
 "nbformat": 4,
 "nbformat_minor": 2
}
