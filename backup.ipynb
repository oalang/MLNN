{
 "cells": [
  {
   "cell_type": "code",
   "execution_count": 121,
   "metadata": {},
   "outputs": [
    {
     "data": {
      "text/plain": [
       "(107, 195, 276)"
      ]
     },
     "execution_count": 121,
     "metadata": {},
     "output_type": "execute_result"
    }
   ],
   "source": [
    "import numpy as np\n",
    "#np.random.seed(42)\n",
    "\n",
    "n = 1000\n",
    "d = 10\n",
    "active_row = .1\n",
    "active_col = .2\n",
    "\n",
    "active_row_bool = np.random.rand(n) < active_row\n",
    "active_col_bool = np.random.rand(n) < active_col\n",
    "active_all_bool = np.logical_or(active_row_bool, active_col_bool)\n",
    "\n",
    "active_row_indx = np.argwhere(active_row_bool).flatten()\n",
    "active_col_indx = np.argwhere(active_col_bool).flatten()\n",
    "active_all_indx = np.argwhere(active_all_bool).flatten()\n",
    "\n",
    "active_row_indx.size, active_col_indx.size, active_all_indx.size\n",
    "\n",
    "\n",
    "#X\n",
    "#Y\n",
    "\n",
    "#T\n",
    "#N\n",
    "\n",
    "#G"
   ]
  },
  {
   "cell_type": "code",
   "execution_count": 44,
   "metadata": {},
   "outputs": [
    {
     "name": "stdout",
     "output_type": "stream",
     "text": [
      "[False False False False  True False False  True  True]\n",
      "[ True False False False False False False  True False]\n",
      "[ True False False False  True False False  True  True]\n"
     ]
    }
   ],
   "source": [
    "A = np.random.rand(9) < .1\n",
    "B = np.random.rand(9) < .2\n",
    "C = np.logical_or(A, B)\n",
    "print(A)\n",
    "print(B)\n",
    "print(C)\n"
   ]
  },
  {
   "cell_type": "code",
   "execution_count": 13,
   "metadata": {},
   "outputs": [],
   "source": [
    "d = 8 #4096\n",
    "\n",
    "W = np.random.randn(d, d)\n",
    "W = ((W) * 10).astype(int) / 10\n",
    "W = W @ W.T\n",
    "W /= np.linalg.norm(W)\n",
    "\n",
    "w = np.diag(W)\n",
    "\n",
    "G = np.random.randn(d, d)\n",
    "G = ((G) * 10).astype(int) / 10\n",
    "G = G @ G.T\n",
    "G /= np.linalg.norm(G)"
   ]
  },
  {
   "cell_type": "code",
   "execution_count": 14,
   "metadata": {
    "scrolled": true
   },
   "outputs": [
    {
     "name": "stdout",
     "output_type": "stream",
     "text": [
      "[[0.5]\n",
      " [0.5]\n",
      " [0.5]\n",
      " [0.5]\n",
      " [0.5]]\n",
      "4.47 µs ± 61.3 ns per loop (mean ± std. dev. of 7 runs, 100000 loops each)\n",
      "3.56 µs ± 23.7 ns per loop (mean ± std. dev. of 7 runs, 100000 loops each)\n",
      "3.76 µs ± 27.9 ns per loop (mean ± std. dev. of 7 runs, 100000 loops each)\n",
      "1.02 µs ± 8.47 ns per loop (mean ± std. dev. of 7 runs, 1000000 loops each)\n",
      "11.7 µs ± 23.3 ns per loop (mean ± std. dev. of 7 runs, 100000 loops each)\n"
     ]
    }
   ],
   "source": [
    "# linear transform - 2-norm - full matrix - loss\n",
    "\n",
    "L1 = .5 * np.trace(W.T @ W)\n",
    "L2 = .5 * np.sum(np.square(W))\n",
    "L3 = .5 * np.square(np.linalg.norm(W))\n",
    "L4 = .5 * np.dot(W.ravel(), W.ravel())\n",
    "L5 = .5 * np.tensordot(W, W)\n",
    "print(np.array([L1, L2, L3, L4, L5]).reshape((-1, 1)))\n",
    "\n",
    "%timeit L1 = .5 * np.trace(W.T @ W)\n",
    "%timeit L2 = .5 * np.sum(np.square(W))\n",
    "%timeit L3 = .5 * np.square(np.linalg.norm(W)) # <- about the same\n",
    "%timeit L4 = .5 * np.dot(W.ravel(), W.ravel()) # <- fastest\n",
    "%timeit L5 = .5 * np.tensordot(W, W)           # <- about the same"
   ]
  },
  {
   "cell_type": "code",
   "execution_count": 15,
   "metadata": {},
   "outputs": [
    {
     "name": "stdout",
     "output_type": "stream",
     "text": [
      "19.8 ns ± 0.167 ns per loop (mean ± std. dev. of 7 runs, 10000000 loops each)\n"
     ]
    }
   ],
   "source": [
    "# linear transform - 2-norm - full matrix - gradient\n",
    "\n",
    "%timeit D = W"
   ]
  },
  {
   "cell_type": "code",
   "execution_count": 16,
   "metadata": {},
   "outputs": [
    {
     "name": "stdout",
     "output_type": "stream",
     "text": [
      "[[0.25528348]\n",
      " [0.25528348]\n",
      " [0.25528348]\n",
      " [0.25528348]]\n",
      "3.28 µs ± 24.5 ns per loop (mean ± std. dev. of 7 runs, 100000 loops each)\n",
      "4.31 µs ± 27.2 ns per loop (mean ± std. dev. of 7 runs, 100000 loops each)\n",
      "863 ns ± 5.39 ns per loop (mean ± std. dev. of 7 runs, 1000000 loops each)\n",
      "11.3 µs ± 26.5 ns per loop (mean ± std. dev. of 7 runs, 100000 loops each)\n"
     ]
    }
   ],
   "source": [
    "# linear transform - 2-norm - diagonal - loss\n",
    "\n",
    "L1 = .5 * np.sum(np.square(w))\n",
    "L2 = .5 * np.square(np.linalg.norm(w))\n",
    "L3 = .5 * np.dot(w, w)\n",
    "L4 = .5 * np.tensordot(w, w, 1)\n",
    "print(np.array([L1, L2, L3, L4]).reshape((-1, 1)))\n",
    "\n",
    "%timeit L1 = .5 * np.sum(np.square(w))\n",
    "%timeit L2 = .5 * np.square(np.linalg.norm(w))\n",
    "%timeit L3 = .5 * np.dot(w, w)                  # <- fastest\n",
    "%timeit L4 = .5 * np.tensordot(w, w, 1)\n"
   ]
  },
  {
   "cell_type": "code",
   "execution_count": 17,
   "metadata": {},
   "outputs": [
    {
     "name": "stdout",
     "output_type": "stream",
     "text": [
      "19.8 ns ± 0.181 ns per loop (mean ± std. dev. of 7 runs, 10000000 loops each)\n"
     ]
    }
   ],
   "source": [
    "# linear transform - 2-norm - diagonal - gradient\n",
    "\n",
    "%timeit D = w"
   ]
  },
  {
   "cell_type": "code",
   "execution_count": 18,
   "metadata": {},
   "outputs": [
    {
     "name": "stdout",
     "output_type": "stream",
     "text": [
      "[[6.11387974]\n",
      " [6.11387974]]\n",
      "3.11 µs ± 25.5 ns per loop (mean ± std. dev. of 7 runs, 100000 loops each)\n",
      "2.77 µs ± 20.3 ns per loop (mean ± std. dev. of 7 runs, 100000 loops each)\n"
     ]
    }
   ],
   "source": [
    "# linear transform - 1-norm - full matrix - loss\n",
    "\n",
    "L1 = np.sum(np.abs(W))\n",
    "L2 = np.linalg.norm(W.ravel(), 1)\n",
    "print(np.array([L1, L2]).reshape((-1, 1)))\n",
    "\n",
    "%timeit L1 = np.sum(np.abs(W))            # <- same speed, more concise\n",
    "%timeit L2 = np.linalg.norm(W.ravel(), 1)"
   ]
  },
  {
   "cell_type": "code",
   "execution_count": 19,
   "metadata": {},
   "outputs": [
    {
     "name": "stdout",
     "output_type": "stream",
     "text": [
      "274 ns ± 1.33 ns per loop (mean ± std. dev. of 7 runs, 1000000 loops each)\n"
     ]
    }
   ],
   "source": [
    "# linear transform - 1-norm - full matrix - gradient\n",
    "\n",
    "%timeit D = np.sign(W)"
   ]
  },
  {
   "cell_type": "code",
   "execution_count": 20,
   "metadata": {},
   "outputs": [
    {
     "name": "stdout",
     "output_type": "stream",
     "text": [
      "[[1.96247498]\n",
      " [1.96247498]]\n",
      "2.82 µs ± 33.8 ns per loop (mean ± std. dev. of 7 runs, 100000 loops each)\n",
      "2.68 µs ± 44 ns per loop (mean ± std. dev. of 7 runs, 100000 loops each)\n"
     ]
    }
   ],
   "source": [
    "# linear transform - 1-norm - diagonal - loss\n",
    "\n",
    "L1 = np.sum(np.abs(w))\n",
    "L2 = np.linalg.norm(w, 1)\n",
    "print(np.array([L1, L2]).reshape((-1, 1)))\n",
    "\n",
    "%timeit L1 = np.sum(np.abs(w))    # <- same speed, more concise\n",
    "%timeit L2 = np.linalg.norm(w, 1) "
   ]
  },
  {
   "cell_type": "code",
   "execution_count": 21,
   "metadata": {},
   "outputs": [
    {
     "name": "stdout",
     "output_type": "stream",
     "text": [
      "234 ns ± 2.99 ns per loop (mean ± std. dev. of 7 runs, 1000000 loops each)\n"
     ]
    }
   ],
   "source": [
    "# linear transform - 1-norm - diagonal - gradient\n",
    "\n",
    "%timeit D = np.sign(w)"
   ]
  },
  {
   "cell_type": "code",
   "execution_count": 22,
   "metadata": {},
   "outputs": [
    {
     "name": "stdout",
     "output_type": "stream",
     "text": [
      "[[0.03401764]\n",
      " [0.03401764]\n",
      " [0.03401764]\n",
      " [0.03401764]\n",
      " [0.03401764]\n",
      " [0.03401764]\n",
      " [0.03401764]\n",
      " [0.03401764]\n",
      " [0.03401764]]\n",
      "6.77 µs ± 71.3 ns per loop (mean ± std. dev. of 7 runs, 100000 loops each)\n",
      "3.38 µs ± 34.2 ns per loop (mean ± std. dev. of 7 runs, 100000 loops each)\n",
      "3.37 µs ± 25.7 ns per loop (mean ± std. dev. of 7 runs, 100000 loops each)\n",
      "15.5 µs ± 99.9 ns per loop (mean ± std. dev. of 7 runs, 100000 loops each)\n",
      "4.71 µs ± 28.8 ns per loop (mean ± std. dev. of 7 runs, 100000 loops each)\n",
      "4.79 µs ± 35.2 ns per loop (mean ± std. dev. of 7 runs, 100000 loops each)\n",
      "16.7 µs ± 76.2 ns per loop (mean ± std. dev. of 7 runs, 100000 loops each)\n",
      "4.09 µs ± 27.5 ns per loop (mean ± std. dev. of 7 runs, 100000 loops each)\n",
      "15.9 µs ± 104 ns per loop (mean ± std. dev. of 7 runs, 100000 loops each)\n"
     ]
    }
   ],
   "source": [
    "# nonlinear transform - 2-norm - full matrix - loss\n",
    "\n",
    "L1 = .5 * np.trace(W @ G @ W @ G)\n",
    "A = W @ G; L2 = .5 * np.dot(A.ravel(), A.ravel('F'))\n",
    "A = W @ G; L3 = .5 * np.dot(A.ravel(), A.T.ravel())\n",
    "A = W @ G; L4 = .5 * np.tensordot(A, A.T)\n",
    "L5 = .5 * np.dot((W @ G).ravel(), (W @ G).ravel('F'))\n",
    "L6 = .5 * np.dot((W @ G).ravel(), (W @ G).T.ravel())\n",
    "L7 = .5 * np.tensordot((W @ G), (W @ G).T)\n",
    "L8 = .5 * np.dot((W @ G).ravel(), (G @ W).ravel())\n",
    "L9 = .5 * np.tensordot((W @ G), (G @ W))\n",
    "print(np.array([L1, L2, L3, L4, L5, L6, L7, L8, L9]).reshape((-1, 1)))\n",
    "\n",
    "%timeit L1 = .5 * np.trace(W @ G @ W @ G)\n",
    "%timeit A = W @ G; L2 = .5 * np.dot(A.ravel(), A.ravel('F')) \n",
    "%timeit A = W @ G; L3 = .5 * np.dot(A.ravel(), A.T.ravel())  # <- fastest\n",
    "%timeit A = W @ G; L4 = .5 * np.tensordot(A, A.T)            \n",
    "%timeit L5 = .5 * np.dot((W @ G).ravel(), (W @ G).ravel('F'))\n",
    "%timeit L6 = .5 * np.dot((W @ G).ravel(), (W @ G).T.ravel())\n",
    "%timeit L7 = .5 * np.tensordot((W @ G), (W @ G).T)\n",
    "%timeit L8 = .5 * np.dot((W @ G).ravel(), (G @ W).ravel())\n",
    "%timeit L9 = .5 * np.tensordot((W @ G), (G @ W))             # <- slower, no assignment"
   ]
  },
  {
   "cell_type": "code",
   "execution_count": 23,
   "metadata": {},
   "outputs": [
    {
     "name": "stdout",
     "output_type": "stream",
     "text": [
      "2.36 µs ± 21.7 ns per loop (mean ± std. dev. of 7 runs, 100000 loops each)\n"
     ]
    }
   ],
   "source": [
    "# nonlinear transform - 2-norm - full matrix - gradient\n",
    "\n",
    "%timeit D = G @ W @ G"
   ]
  },
  {
   "cell_type": "code",
   "execution_count": 24,
   "metadata": {},
   "outputs": [
    {
     "name": "stdout",
     "output_type": "stream",
     "text": [
      "[[0.02840476]\n",
      " [0.02840476]\n",
      " [0.02840476]\n",
      " [0.02840476]\n",
      " [0.02840476]\n",
      " [0.02840476]\n",
      " [0.02840476]\n",
      " [0.02840476]\n",
      " [0.02840476]\n",
      " [0.02840476]]\n",
      "10.9 µs ± 134 ns per loop (mean ± std. dev. of 7 runs, 100000 loops each)\n",
      "2.89 µs ± 27.1 ns per loop (mean ± std. dev. of 7 runs, 100000 loops each)\n",
      "2.89 µs ± 25.6 ns per loop (mean ± std. dev. of 7 runs, 100000 loops each)\n",
      "13.9 µs ± 113 ns per loop (mean ± std. dev. of 7 runs, 100000 loops each)\n",
      "14.9 µs ± 43.6 ns per loop (mean ± std. dev. of 7 runs, 100000 loops each)\n",
      "3.96 µs ± 43.9 ns per loop (mean ± std. dev. of 7 runs, 100000 loops each)\n",
      "7.09 µs ± 87.7 ns per loop (mean ± std. dev. of 7 runs, 100000 loops each)\n",
      "5.94 µs ± 65.3 ns per loop (mean ± std. dev. of 7 runs, 100000 loops each)\n",
      "16.2 µs ± 116 ns per loop (mean ± std. dev. of 7 runs, 100000 loops each)\n",
      "4.71 µs ± 45.6 ns per loop (mean ± std. dev. of 7 runs, 100000 loops each)\n"
     ]
    }
   ],
   "source": [
    "# nonlinear transform - 2-norm - diagonal - loss\n",
    "\n",
    "L1 = .5 * np.trace(np.diag(w) @ G @ np.diag(w) @ G)\n",
    "A = w * G; L2 = .5 * np.dot(A.ravel(), A.ravel('F'))\n",
    "A = w * G; L3 = .5 * np.dot(A.ravel(), A.T.ravel())\n",
    "A = w * G; L4 = .5 * np.tensordot(A, A.T)\n",
    "L5 = .5 * np.tensordot(w * G, w[:, None] * G)\n",
    "L6 = .5 * np.dot((w * G).ravel(), (w * G).T.ravel())\n",
    "L7 = .5 * np.sum(np.outer(w, w) * np.square(G))\n",
    "L8 = .5 * np.sum(w * np.square(G) * w[:, None])\n",
    "L9 = .5 * np.tensordot(np.outer(w, w), np.square(G))\n",
    "L10 = .5 * np.dot(np.outer(w, w).ravel(), np.square(G).ravel())\n",
    "print(np.array([L1, L2, L3, L4, L5, L6, L7, L8, L9, L10]).reshape((-1, 1)))\n",
    "\n",
    "%timeit L1 = .5 * np.trace(np.diag(w) @ G @ np.diag(w) @ G)\n",
    "%timeit A = w * G; L2 = .5 * np.dot(A.ravel(), A.ravel('F'))\n",
    "%timeit A = w * G; L3 = .5 * np.dot(A.ravel(), A.T.ravel())\n",
    "%timeit A = w * G; L4 = .5 * np.tensordot(A, A.T)\n",
    "%timeit L5 = .5 * np.tensordot(w * G, w[:, None] * G)\n",
    "%timeit L6 = .5 * np.dot((w * G).ravel(), (w * G).T.ravel())\n",
    "%timeit L7 = .5 * np.sum(np.outer(w, w) * np.square(G))\n",
    "%timeit L8 = .5 * np.sum(w * np.square(G) * w[:, None])\n",
    "%timeit L9 = .5 * np.tensordot(np.outer(w, w), np.square(G))            # <- about the same\n",
    "%timeit L10 = .5 * np.dot(np.outer(w, w).ravel(), np.square(G).ravel()) # <- fastest"
   ]
  },
  {
   "cell_type": "code",
   "execution_count": 25,
   "metadata": {},
   "outputs": [
    {
     "name": "stdout",
     "output_type": "stream",
     "text": [
      "[[0.02027539 0.07847786 0.01266886 0.01221752 0.00599783 0.01748913\n",
      "  0.03806123 0.04939317]\n",
      " [0.02027539 0.07847786 0.01266886 0.01221752 0.00599783 0.01748913\n",
      "  0.03806123 0.04939317]]\n",
      "6.26 µs ± 62.9 ns per loop (mean ± std. dev. of 7 runs, 100000 loops each)\n",
      "1.47 µs ± 6.08 ns per loop (mean ± std. dev. of 7 runs, 1000000 loops each)\n"
     ]
    }
   ],
   "source": [
    "# nonlinear transform - 2-norm - diagonal - gradient\n",
    "\n",
    "D1 = np.diag(G @ np.diag(w) @ G)\n",
    "D2 = np.square(G) @ w\n",
    "print(np.stack((D1, D2)))\n",
    "\n",
    "%timeit D1 = np.diag(G @ np.diag(w) @ G)\n",
    "%timeit D2 = np.square(G) @ w            # <- fastest"
   ]
  },
  {
   "cell_type": "code",
   "execution_count": 26,
   "metadata": {},
   "outputs": [
    {
     "name": "stdout",
     "output_type": "stream",
     "text": [
      "[[0.70512853]\n",
      " [0.70512853]]\n",
      "6.49 µs ± 41.5 ns per loop (mean ± std. dev. of 7 runs, 100000 loops each)\n",
      "6.34 µs ± 56.7 ns per loop (mean ± std. dev. of 7 runs, 100000 loops each)\n"
     ]
    }
   ],
   "source": [
    "# nonlinear transform - 1-norm - full matrix - loss\n",
    "\n",
    "L1 = np.sum(np.abs(G @ W @ G))\n",
    "L2 = np.linalg.norm((G @ W @ G).ravel(), 1)\n",
    "print(np.array([L1, L2]).reshape((-1, 1)))\n",
    "\n",
    "%timeit L1 = np.sum(np.abs(G @ W @ G))              # <- more concise\n",
    "%timeit L2 = np.linalg.norm((G @ W @ G).ravel(), 1) # <- faster"
   ]
  },
  {
   "cell_type": "code",
   "execution_count": 27,
   "metadata": {},
   "outputs": [
    {
     "name": "stdout",
     "output_type": "stream",
     "text": [
      "5.02 µs ± 46.9 ns per loop (mean ± std. dev. of 7 runs, 100000 loops each)\n"
     ]
    }
   ],
   "source": [
    "# nonlinear transform - 1-norm - full matrix - gradient\n",
    "\n",
    "%timeit D = G @ np.sign(G @ W @ G) @ G"
   ]
  },
  {
   "cell_type": "code",
   "execution_count": 28,
   "metadata": {},
   "outputs": [
    {
     "name": "stdout",
     "output_type": "stream",
     "text": [
      "[[0.93031972]\n",
      " [0.93031972]\n",
      " [0.93031972]]\n",
      "8.54 µs ± 65.8 ns per loop (mean ± std. dev. of 7 runs, 100000 loops each)\n",
      "6.5 µs ± 35.8 ns per loop (mean ± std. dev. of 7 runs, 100000 loops each)\n",
      "6.45 µs ± 32.6 ns per loop (mean ± std. dev. of 7 runs, 100000 loops each)\n"
     ]
    }
   ],
   "source": [
    "# nonlinear transform - 1-norm - diagonal - loss\n",
    "\n",
    "L1 = np.sum(np.abs(G @ np.diag(w) @ G))\n",
    "L2 = np.sum(np.abs((w * G) @ G))\n",
    "L3 = np.linalg.norm(((w * G) @ G).ravel(), 1)\n",
    "print(np.array([L1, L2, L3]).reshape((-1, 1)))\n",
    "\n",
    "%timeit L1 = np.sum(np.abs(G @ np.diag(w) @ G))\n",
    "%timeit L2 = np.sum(np.abs((w * G) @ G))              # <- more concise\n",
    "%timeit L3 = np.linalg.norm(((w * G) @ G).ravel(), 1) # <- faster"
   ]
  },
  {
   "cell_type": "code",
   "execution_count": 29,
   "metadata": {},
   "outputs": [
    {
     "name": "stdout",
     "output_type": "stream",
     "text": [
      "[[0.26373642 1.32560084 0.07636305 0.16162121 0.04822988 0.26049764\n",
      "  0.69594308 1.14880557]\n",
      " [0.26373642 1.32560084 0.07636305 0.16162121 0.04822988 0.26049764\n",
      "  0.69594308 1.14880557]\n",
      " [0.26373642 1.32560084 0.07636305 0.16162121 0.04822988 0.26049764\n",
      "  0.69594308 1.14880557]]\n",
      "9.04 µs ± 70 ns per loop (mean ± std. dev. of 7 runs, 100000 loops each)\n",
      "8.13 µs ± 43.7 ns per loop (mean ± std. dev. of 7 runs, 100000 loops each)\n",
      "8.15 µs ± 70.5 ns per loop (mean ± std. dev. of 7 runs, 100000 loops each)\n"
     ]
    }
   ],
   "source": [
    "# nonlinear transform - 1-norm - diagonal - gradient\n",
    "\n",
    "D1 = np.diag(G @ np.sign(G @ np.diag(w) @ G) @ G)\n",
    "D2 = np.sum((G @ np.sign((w * G) @ G)) * G, axis=1)\n",
    "D3 = np.sum(G * (np.sign((w * G) @ G) @ G), axis=0)\n",
    "print(np.stack((D1, D2, D3)))\n",
    "\n",
    "%timeit D1 = np.diag(G @ np.sign(G @ np.diag(w) @ G) @ G)\n",
    "%timeit D2 = np.sum((G @ np.sign((w * G) @ G)) * G, axis=1)   # <- same speed\n",
    "%timeit D3 = np.sum(G * (np.sign((w * G) @ G) @ G), axis=0)   # <- same speed\n",
    "\n"
   ]
  },
  {
   "cell_type": "code",
   "execution_count": 30,
   "metadata": {},
   "outputs": [
    {
     "name": "stdout",
     "output_type": "stream",
     "text": [
      "[[1.07656556]\n",
      " [1.07656556]]\n",
      "6.6 µs ± 90.7 ns per loop (mean ± std. dev. of 7 runs, 100000 loops each)\n",
      "6.65 µs ± 55.4 ns per loop (mean ± std. dev. of 7 runs, 100000 loops each)\n"
     ]
    }
   ],
   "source": [
    "# nonlinear transform - 1-norm - non-convex - loss\n",
    "\n",
    "L1 = np.sum(np.abs(W @ G @ W.T))\n",
    "L2 = np.linalg.norm((W @ G @ W.T).ravel(), 1)\n",
    "print(np.array([L1, L2]).reshape((-1, 1)))\n",
    "\n",
    "%timeit L1 = np.sum(np.abs(W @ G @ W.T))              # <- more concise\n",
    "%timeit L2 = np.linalg.norm((W @ G @ W.T).ravel(), 1) # <- faster"
   ]
  },
  {
   "cell_type": "code",
   "execution_count": 31,
   "metadata": {},
   "outputs": [
    {
     "name": "stdout",
     "output_type": "stream",
     "text": [
      "5.24 µs ± 29.2 ns per loop (mean ± std. dev. of 7 runs, 100000 loops each)\n"
     ]
    }
   ],
   "source": [
    "# nonlinear transform - 1-norm - non-convex - gradient\n",
    "\n",
    "%timeit D1 = np.sign(W @ G @ W.T) @ W @ G"
   ]
  },
  {
   "cell_type": "code",
   "execution_count": 32,
   "metadata": {},
   "outputs": [
    {
     "name": "stdout",
     "output_type": "stream",
     "text": [
      "1.05 µs ± 3.69 ns per loop (mean ± std. dev. of 7 runs, 1000000 loops each)\n"
     ]
    }
   ],
   "source": [
    "%%timeit\n",
    "# linear transform - 2-norm - full matrix\n",
    "\n",
    "L = .5 * np.dot(W.ravel(), W.ravel())\n",
    "D = W"
   ]
  },
  {
   "cell_type": "code",
   "execution_count": 33,
   "metadata": {},
   "outputs": [
    {
     "name": "stdout",
     "output_type": "stream",
     "text": [
      "876 ns ± 2.82 ns per loop (mean ± std. dev. of 7 runs, 1000000 loops each)\n"
     ]
    }
   ],
   "source": [
    "%%timeit\n",
    "# linear transform - 2-norm - diagonal\n",
    "\n",
    "L = .5 * np.dot(w, w)\n",
    "D = w"
   ]
  },
  {
   "cell_type": "code",
   "execution_count": 34,
   "metadata": {},
   "outputs": [
    {
     "name": "stdout",
     "output_type": "stream",
     "text": [
      "3.14 µs ± 49.4 ns per loop (mean ± std. dev. of 7 runs, 100000 loops each)\n"
     ]
    }
   ],
   "source": [
    "%%timeit\n",
    "# linear transform - 1-norm - full matrix\n",
    "\n",
    "L = np.linalg.norm(W.ravel(), 1)\n",
    "D = np.sign(W)"
   ]
  },
  {
   "cell_type": "code",
   "execution_count": 35,
   "metadata": {},
   "outputs": [
    {
     "name": "stdout",
     "output_type": "stream",
     "text": [
      "2.97 µs ± 56.7 ns per loop (mean ± std. dev. of 7 runs, 100000 loops each)\n"
     ]
    }
   ],
   "source": [
    "%%timeit\n",
    "# linear transform - 1-norm - diagonal\n",
    "\n",
    "L = np.linalg.norm(w, 1)\n",
    "D = np.sign(w)"
   ]
  },
  {
   "cell_type": "code",
   "execution_count": 36,
   "metadata": {},
   "outputs": [
    {
     "name": "stdout",
     "output_type": "stream",
     "text": [
      "4.62 µs ± 41.3 ns per loop (mean ± std. dev. of 7 runs, 100000 loops each)\n"
     ]
    }
   ],
   "source": [
    "%%timeit\n",
    "# nonlinear transform - 2-norm - full matrix\n",
    "\n",
    "A = W @ G\n",
    "L = .5 * np.dot(A.ravel(), A.T.ravel())\n",
    "D = G @ A"
   ]
  },
  {
   "cell_type": "code",
   "execution_count": 37,
   "metadata": {},
   "outputs": [
    {
     "name": "stdout",
     "output_type": "stream",
     "text": [
      "6.22 µs ± 108 ns per loop (mean ± std. dev. of 7 runs, 100000 loops each)\n"
     ]
    }
   ],
   "source": [
    "%%timeit\n",
    "# nonlinear transform - 2-norm - diagonal\n",
    "\n",
    "A = np.square(G)\n",
    "L = .5 * np.dot(np.outer(w, w).ravel(), A.ravel())\n",
    "D = A @ w"
   ]
  },
  {
   "cell_type": "code",
   "execution_count": 38,
   "metadata": {},
   "outputs": [
    {
     "name": "stdout",
     "output_type": "stream",
     "text": [
      "9.22 µs ± 107 ns per loop (mean ± std. dev. of 7 runs, 100000 loops each)\n"
     ]
    }
   ],
   "source": [
    "%%timeit\n",
    "# nonlinear transform - 1-norm - full matrix\n",
    "\n",
    "A = G @ W @ G\n",
    "L = np.linalg.norm(A.ravel(), 1)\n",
    "D = G @ np.sign(A) @ G"
   ]
  },
  {
   "cell_type": "code",
   "execution_count": 39,
   "metadata": {},
   "outputs": [
    {
     "name": "stdout",
     "output_type": "stream",
     "text": [
      "13 µs ± 686 ns per loop (mean ± std. dev. of 7 runs, 100000 loops each)\n"
     ]
    }
   ],
   "source": [
    "%%timeit\n",
    "# nonlinear transform - 1-norm - diagonal\n",
    "\n",
    "A = (w * G) @ G\n",
    "L = np.linalg.norm(A.ravel(), 1)\n",
    "D = np.sum(G @ np.sign(A) * G, axis=1)"
   ]
  },
  {
   "cell_type": "code",
   "execution_count": 40,
   "metadata": {},
   "outputs": [
    {
     "name": "stdout",
     "output_type": "stream",
     "text": [
      "9.47 µs ± 18.1 ns per loop (mean ± std. dev. of 7 runs, 100000 loops each)\n"
     ]
    }
   ],
   "source": [
    "%%timeit\n",
    "# nonlinear transform - 1-norm - non-convex\n",
    "\n",
    "A = W @ G @ W.T\n",
    "L = np.linalg.norm(A.ravel(), 1)\n",
    "D = np.sign(A) @ W @ G"
   ]
  },
  {
   "cell_type": "code",
   "execution_count": 41,
   "metadata": {
    "scrolled": false
   },
   "outputs": [
    {
     "data": {
      "text/plain": [
       "(array([[  6,  24,  42,  60],\n",
       "        [ 24,  90, 156, 222],\n",
       "        [ 42, 156, 270, 384],\n",
       "        [ 60, 222, 384, 546]]),\n",
       " array([[ 6],\n",
       "        [90]]))"
      ]
     },
     "execution_count": 41,
     "metadata": {},
     "output_type": "execute_result"
    }
   ],
   "source": [
    "A = np.arange(4).reshape(2,2)\n",
    "B = np.outer(A.ravel(), A.ravel()).reshape(2,2,2,2)\n",
    "A[1,1] * A[1,0], B[1,1,1,0]\n",
    "\n",
    "A = np.arange(8).reshape(4,2)\n",
    "B = np.arange(4).reshape(2,2)\n",
    "B = B + B.T\n",
    "C = A @ B @ A.T\n",
    "E = np.zeros((16,4))\n",
    "E[0,:] = np.outer(A[0,:],A[0,:]).ravel()\n",
    "E[1,:] = np.outer(A[0,:],A[1,:]).ravel()\n",
    "E[2,:] = np.outer(A[0,:],A[2,:]).ravel()\n",
    "E[3,:] = np.outer(A[0,:],A[3,:]).ravel()\n",
    "E[4,:] = np.outer(A[1,:],A[0,:]).ravel()\n",
    "E[5,:] = np.outer(A[1,:],A[1,:]).ravel()\n",
    "E[6,:] = np.outer(A[1,:],A[2,:]).ravel()\n",
    "E[7,:] = np.outer(A[1,:],A[3,:]).ravel()\n",
    "E[8,:] = np.outer(A[2,:],A[0,:]).ravel()\n",
    "E[9,:] = np.outer(A[2,:],A[1,:]).ravel()\n",
    "E[10,:] = np.outer(A[2,:],A[2,:]).ravel()\n",
    "E[11,:] = np.outer(A[2,:],A[3,:]).ravel()\n",
    "E[12,:] = np.outer(A[3,:],A[0,:]).ravel()\n",
    "E[13,:] = np.outer(A[3,:],A[1,:]).ravel()\n",
    "E[14,:] = np.outer(A[3,:],A[2,:]).ravel()\n",
    "E[15,:] = np.outer(A[3,:],A[3,:]).ravel()\n",
    "D = (np.dot(A.reshape(4,2,1), A.reshape(4,1,2)).transpose(0,2,1,3).reshape(16,4) @ B.reshape(4,1)).reshape(4,4)\n",
    "F = (E @ B.reshape(4,1)).reshape(4,4)\n",
    "C, np.int_(D), np.int_(F)\n",
    "C, A[0:2,np.repeat(np.arange(2),2)] * A[0:2,np.tile(np.arange(2),2)] @ B.reshape(4,1)\n",
    "#C, (np.dot(A[[0, 2], :].reshape(2,2,1), A[[0, 1, 3], :].reshape(3,1,2)).transpose(0,2,1,3).reshape(6,4) @ B.reshape(4,1)).reshape(2,3)\n",
    "\n"
   ]
  },
  {
   "cell_type": "code",
   "execution_count": 26,
   "metadata": {
    "scrolled": true
   },
   "outputs": [
    {
     "name": "stdout",
     "output_type": "stream",
     "text": [
      "[[ 0  1  2  3]\n",
      " [ 4  6  7  9]\n",
      " [10 12 13 15]\n",
      " [17 18 20 22]\n",
      " [23 25 27 28]\n",
      " [30 32 34 35]\n",
      " [37 39 41 43]]\n",
      "[[ 1  6 11 16]\n",
      " [ 6 11 16 21]\n",
      " [11 16 21 26]\n",
      " [16 21 26 31]]\n",
      "[[     0   7000  32296  83141 153939 254375 387156]\n",
      " [  7000      0   9216  41871  95249 176925 289976]\n",
      " [ 32296   9216      0  11799  45209 105381 195800]\n",
      " [ 83141  41871  11799      0  10816  46656 111469]\n",
      " [153939  95249  45209  10816      0  12544  52839]\n",
      " [254375 176925 105381  46656  12544      0  13891]\n",
      " [387156 289976 195800 111469  52839  13891      0]]\n",
      "[[    0 32296 83141]\n",
      " [32296     0 11799]]\n",
      "[[    0 32296 83141]\n",
      " [32296     0 11799]]\n",
      "[[    0 32296 83141]\n",
      " [32296     0 11799]]\n"
     ]
    }
   ],
   "source": [
    "n = 7\n",
    "d = 4\n",
    "r = np.array([0, 2])\n",
    "c = np.array([0, 2, 3])\n",
    "\n",
    "A = np.int_(np.arange(n * d).reshape(n, d) ** (8 / 7))\n",
    "B = np.arange(d ** 2).reshape(d, d)\n",
    "B = B + B.T + 1\n",
    "print(A)\n",
    "print(B)\n",
    "\n",
    "P = A @ B @ A.T\n",
    "D = P.diagonal()[:, None]\n",
    "R = D + D.T - 2 * P\n",
    "R1 = R[r][:, c]\n",
    "print(R)\n",
    "print(R1)\n",
    "\n",
    "R2 = (A[r][:, np.repeat(np.arange(d), d)] * A[r][:, np.tile(np.arange(d), d)] @ B.reshape(d ** 2, 1) +\n",
    "      (A[c][:, np.repeat(np.arange(d), d)] * A[c][:, np.tile(np.arange(d), d)] @ B.reshape(d ** 2, 1)).T -\n",
    "      2 * A[r] @ B @ A[c].T\n",
    "     )\n",
    "print(R2)\n",
    "\n",
    "R3 = (A[r][:, np.repeat(np.arange(d), d)] * A[r][:, np.tile(np.arange(d), d)] @ B.reshape(d ** 2, 1) +\n",
    "      (A[c][:, np.repeat(np.arange(d), d)] * A[c][:, np.tile(np.arange(d), d)] @ B.reshape(d ** 2, 1)).T -\n",
    "      2 * (np.dot(A[r].reshape(r.size, d , 1),\n",
    "                  A[c].reshape(c.size, 1 , d)).transpose(0,2,1,3).reshape(r.size * c.size, d ** 2)\n",
    "           @ B.reshape(d ** 2, 1)).reshape(r.size, c.size)\n",
    "     )\n",
    "print(R3)"
   ]
  },
  {
   "cell_type": "code",
   "execution_count": 37,
   "metadata": {
    "scrolled": false
   },
   "outputs": [
    {
     "name": "stdout",
     "output_type": "stream",
     "text": [
      "[[ 0  1  2  3]\n",
      " [ 4  6  7  9]\n",
      " [10 12 13 15]\n",
      " [17 18 20 22]\n",
      " [23 25 27 28]\n",
      " [30 32 34 35]\n",
      " [37 39 41 43]]\n",
      "[[ 0  1  2  3  4  5  6]\n",
      " [ 7  8  9 10 11 12 13]\n",
      " [14 15 16 17 18 19 20]\n",
      " [21 22 23 24 25 26 27]\n",
      " [28 29 30 31 32 33 34]\n",
      " [35 36 37 38 39 40 41]\n",
      " [42 43 44 45 46 47 48]]\n",
      "[[385728 391544 403688 402880]\n",
      " [391544 397768 409960 409104]\n",
      " [403688 409960 422680 421704]\n",
      " [402880 409104 421704 421304]]\n",
      "[[385728 391544 403688 402880]\n",
      " [391544 397768 409960 409104]\n",
      " [403688 409960 422680 421704]\n",
      " [402880 409104 421704 421304]]\n",
      "[[385728 391544 403688 402880]\n",
      " [391544 397768 409960 409104]\n",
      " [403688 409960 422680 421704]\n",
      " [402880 409104 421704 421304]]\n"
     ]
    }
   ],
   "source": [
    "n = 7\n",
    "d = 4\n",
    "r = np.array([0, 2])\n",
    "c = np.array([0, 2, 3])\n",
    "\n",
    "A = np.int_(np.arange(n * d).reshape(n, d) ** (8 / 7))\n",
    "B = np.arange(n ** 2).reshape(n, n)\n",
    "print(A)\n",
    "print(B)\n",
    "\n",
    "R1 = np.zeros((d, d), dtype=int)\n",
    "for i in range(n):\n",
    "    for j in range(n):\n",
    "        C = A[i] - A[j]\n",
    "        R1 += B[i, j] * np.outer(C, C)\n",
    "print(R1)\n",
    "\n",
    "C = A.reshape(n, 1, d) - A.reshape(1, n, d)\n",
    "R2 = np.tensordot(B, C.reshape(n, n, d, 1) @ C.reshape(n, n, 1, d))\n",
    "print(R2)\n",
    "\n",
    "C = B + B.T\n",
    "R3 = A.T @ (np.diag(np.sum(C, axis=0)) - C) @ A\n",
    "print(R3)"
   ]
  },
  {
   "cell_type": "code",
   "execution_count": 122,
   "metadata": {},
   "outputs": [
    {
     "name": "stdout",
     "output_type": "stream",
     "text": [
      "12157.5 12157.5\n",
      "23273.375 23273.375\n",
      "23273.375000000004 23273.375000000004\n",
      "23273.375000000004 23273.375000000004 23273.375000000004\n"
     ]
    }
   ],
   "source": [
    "I = np.array([True, False, False, True, False])\n",
    "A = np.random.randint(0,10,(5,5)) - 4.5\n",
    "A = A + A.T\n",
    "B = np.random.randint(0,10,(5,5)) - 4.5\n",
    "B = B + B.T\n",
    "V = np.random.randint(0,10,(5,5)) - 4.5\n",
    "V[~I, :] = 0\n",
    "V[:, ~I] = 0\n",
    "U = np.diag(np.sum(V + V.T, axis=0)) - (V + V.T)\n",
    "\n",
    "a = .1\n",
    "\n",
    "R1 = .5 * np.trace(A @ B @ A @ B)\n",
    "R2 = .5 * np.dot((A @ B).T.ravel(), (A @ B).ravel())\n",
    "\n",
    "print(R1, R2)\n",
    "\n",
    "M = A + a * A + U\n",
    "\n",
    "F1 = .5 * np.trace(M @ B @ M @ B)\n",
    "F2 = .5 * np.dot((M @ B).T.ravel(), (M @ B).ravel())\n",
    "\n",
    "print(F1, F2)\n",
    "\n",
    "C1 = (1 + a) ** 2 * R1 + (1 + a) * np.trace(A @ B @ U @ B) + .5 * np.trace(U @ B @ U @ B)\n",
    "C2 = (1 + a) ** 2 * R2 + (1 + a) * np.dot((A @ B).T.ravel(), (U @ B).ravel()) + .5 * np.dot((U @ B).T.ravel(), (U @ B).ravel())\n",
    "\n",
    "print(C1, C2)\n",
    "\n",
    "D1 = ((1 + a) ** 2 * R2 +\n",
    "     (1 + a) * np.dot((A @ B[:, I]).T.ravel(), (U[I, :][:, I] @ B[I, :]).ravel()) +\n",
    "     .5 * np.dot((U[I, :][:, I] @ B[I, :][:, I]).T.ravel(), (U[I, :][:, I] @ B[I, :][:, I]).ravel()))\n",
    "\n",
    "BS = B[I]\n",
    "CS = A @ BS.T\n",
    "US = U[I, :][:, I]\n",
    "UB = US @ BS\n",
    "\n",
    "D2 = ((1 + a) ** 2 * R2 +\n",
    "      (1 + a) * np.dot(CS.T.ravel(), UB.ravel()) +\n",
    "      .5 * np.dot(UB[:, I].T.ravel(), UB[:, I].ravel()))\n",
    "\n",
    "J = np.nonzero(I)[0]\n",
    "BS = B.take(J, axis=0)\n",
    "CS = A @ BS.T\n",
    "US = U.take(J, axis=0).take(J, axis=1)\n",
    "UB = US @ BS\n",
    "\n",
    "D3 = ((1 + a) ** 2 * R2 +\n",
    "      (1 + a) * np.dot(CS.T.ravel(), UB.ravel()) +\n",
    "      .5 * np.dot(UB.take(J, axis=1).T.ravel(), UB.take(J, axis=1).ravel()))\n",
    "\n",
    "print(D1, D2, D3)\n"
   ]
  }
 ],
 "metadata": {
  "kernelspec": {
   "display_name": "Python 3 (ipykernel)",
   "language": "python",
   "name": "python3"
  },
  "language_info": {
   "codemirror_mode": {
    "name": "ipython",
    "version": 3
   },
   "file_extension": ".py",
   "mimetype": "text/x-python",
   "name": "python",
   "nbconvert_exporter": "python",
   "pygments_lexer": "ipython3",
   "version": "3.8.12"
  }
 },
 "nbformat": 4,
 "nbformat_minor": 4
}
