{
 "cells": [
  {
   "cell_type": "code",
   "execution_count": 1,
   "metadata": {},
   "outputs": [],
   "source": [
    "import numpy as np\n",
    "np.random.seed(42)\n",
    "\n",
    "%matplotlib inline\n",
    "import matplotlib.pyplot as plt"
   ]
  },
  {
   "cell_type": "code",
   "execution_count": 2,
   "metadata": {},
   "outputs": [],
   "source": [
    "from sklearn.datasets import load_wine\n",
    "\n",
    "data = load_wine()\n",
    "\n",
    "X_original = np.array(data['data'])\n",
    "Y_original = np.array(data['target'], dtype=int)"
   ]
  },
  {
   "cell_type": "code",
   "execution_count": 3,
   "metadata": {},
   "outputs": [],
   "source": [
    "from sklearn.model_selection import StratifiedShuffleSplit\n",
    "\n",
    "split = StratifiedShuffleSplit(n_splits=1, test_size=0.3, random_state=42)\n",
    "for train_index, test_index in split.split(X_original, Y_original):\n",
    "    X_train, Y_train = X_original[train_index, :], Y_original[train_index]\n",
    "    X_test, Y_test = X_original[test_index, :], Y_original[test_index]\n",
    "    \n",
    "X_train, Y_train = X_original, Y_original\n",
    "X_test, Y_test = X_original, Y_original"
   ]
  },
  {
   "cell_type": "code",
   "execution_count": 4,
   "metadata": {},
   "outputs": [],
   "source": [
    "from sklearn.pipeline import Pipeline\n",
    "from sklearn.preprocessing import StandardScaler\n",
    "\n",
    "pipeline = Pipeline([('std_scaler', StandardScaler())])\n",
    "X_train_scaled = pipeline.fit_transform(X_train)\n",
    "X_test_scaled = pipeline.transform(X_test)"
   ]
  },
  {
   "cell_type": "code",
   "execution_count": 5,
   "metadata": {},
   "outputs": [],
   "source": [
    "from sklearn.decomposition import PCA\n",
    "\n",
    "pca = PCA(n_components=2)\n",
    "X_train_2D = pca.fit_transform(X_train_scaled)"
   ]
  },
  {
   "cell_type": "code",
   "execution_count": 6,
   "metadata": {},
   "outputs": [
    {
     "data": {
      "image/png": "[encoded data removed]",
      "text/plain": [
       "<Figure size 288x288 with 1 Axes>"
      ]
     },
     "metadata": {
      "needs_background": "light"
     },
     "output_type": "display_data"
    }
   ],
   "source": [
    "plt.figure(figsize=(4, 4))\n",
    "plt.scatter(X_train_2D[:, 0], X_train_2D[:, 1], c=Y_train)\n",
    "plt.show()"
   ]
  },
  {
   "cell_type": "code",
   "execution_count": 7,
   "metadata": {},
   "outputs": [
    {
     "data": {
      "text/plain": [
       "0.9606741573033708"
      ]
     },
     "execution_count": 7,
     "metadata": {},
     "output_type": "execute_result"
    }
   ],
   "source": [
    "from sklearn.neighbors import KNeighborsClassifier\n",
    "from sklearn.metrics import accuracy_score\n",
    "\n",
    "knn = KNeighborsClassifier(3)\n",
    "knn.fit(X_train_scaled, Y_train)\n",
    "Y_test_pred = knn.predict(X_test_scaled)\n",
    "accuracy_score(Y_test, Y_test_pred)"
   ]
  },
  {
   "cell_type": "code",
   "execution_count": 8,
   "metadata": {
    "scrolled": true
   },
   "outputs": [
    {
     "name": "stdout",
     "output_type": "stream",
     "text": [
      "step args bktr   alpha       phi      delta_F       F          R          S          L        mean_E  \n",
      "   0  -    -       -          -          -       5.283e+03  0.000e+00  0.000e+00  5.283e+03  0.000e+00\n",
      "   1  AE     8  6.938e-07 -8.455e+10  3.395e+03  1.888e+03  2.033e-02  0.000e+00  1.888e+03 -6.960e-03\n",
      "   2  AE     3  2.371e-06 -1.535e+09  1.616e+03  2.719e+02  1.477e-02  0.000e+00  2.719e+02  5.165e-03\n",
      "   3  AE     2  1.867e-05 -4.873e+07  1.331e+02  1.388e+02  1.454e-02  0.000e+00  1.388e+02  1.142e-02\n",
      "   4  AE     1  5.013e-06 -1.745e+08  6.127e+01  7.755e+01  1.686e-02  0.000e+00  7.753e+01  1.005e-02\n",
      "   5  AE     2  7.993e-06 -2.276e+07  6.013e+01  1.742e+01  1.595e-02  0.000e+00  1.740e+01  1.246e-02\n",
      "   6  AE     1  1.040e-05 -3.102e+06  1.086e+01  6.560e+00  1.597e-02  0.000e+00  6.544e+00  1.285e-02\n",
      "   7  AE     1  1.177e-05 -9.711e+05  5.278e+00  1.281e+00  1.580e-02  0.000e+00  1.265e+00  1.341e-02\n",
      "   8  AE     0  1.982e-05 -5.768e+05  9.377e-01  3.434e-01  1.589e-02  0.000e+00  3.275e-01  1.382e-02\n",
      "   9  AE     0  2.675e-05 -4.273e+05  5.613e-03  3.378e-01  1.587e-02  0.000e+00  3.219e-01  1.436e-02\n",
      "  10  AE     1  1.170e-05 -7.801e+05  1.159e-01  2.219e-01  1.599e-02  0.000e+00  2.059e-01  1.435e-02\n",
      "  11  AE     1  1.702e-05 -8.267e+04  2.059e-01  1.596e-02  1.596e-02  0.000e+00  0.000e+00  1.456e-02\n",
      "  12  AE     9  1.717e-01 -3.192e-02  5.011e-03  1.095e-02  1.095e-02  0.000e+00  0.000e+00  1.456e-02\n",
      "  13  AE     2  7.129e-02 -2.190e-02  1.506e-03  9.444e-03  9.444e-03  0.000e+00  0.000e+00  1.456e-02\n",
      "  14  AE     4  1.220e-03 -1.889e-02  2.303e-05  9.421e-03  9.421e-03  0.000e+00  0.000e+00  1.456e-02\n",
      "  15  AE     0  1.223e-03 -1.884e-02  1.679e-05  9.404e-03  9.398e-03  0.000e+00  6.240e-06  1.456e-02\n",
      "  16  AE     0  1.345e-03 -3.196e+00  1.129e-05  9.393e-03  9.393e-03  0.000e+00  0.000e+00  1.459e-02\n",
      "  17  AE     3  3.632e-02 -1.879e-02  6.698e-04  8.723e-03  8.723e-03  0.000e+00  0.000e+00  1.459e-02\n",
      "  18  AE     2  9.340e-03 -1.745e-02  1.622e-04  8.561e-03  8.561e-03  0.000e+00  0.000e+00  1.459e-02\n",
      "  19  AE     1  4.759e-03 -1.712e-02  3.849e-06  8.557e-03  8.480e-03  0.000e+00  7.743e-05  1.459e-02\n",
      "  20  AE     4  3.877e-04 -5.990e+01  3.326e-05  8.524e-03  8.524e-03  0.000e+00  0.000e+00  1.458e-02\n",
      "  21  AE     5  2.819e-02 -1.705e-02  4.738e-04  8.050e-03  8.050e-03  0.000e+00  0.000e+00  1.458e-02\n",
      "  22  AE     0  2.985e-02 -1.610e-02  4.734e-04  7.577e-03  7.577e-03  0.000e+00  0.000e+00  1.458e-02\n",
      "  23  AE     4  1.555e-03 -1.515e-02  2.354e-05  7.553e-03  7.553e-03  0.000e+00  0.000e+00  1.458e-02\n",
      "  24  AE     1  1.709e-04 -1.511e-02  2.582e-06  7.551e-03  7.551e-03  0.000e+00  0.000e+00  1.458e-02\n",
      "  25  AE     0  1.710e-04 -1.510e-02  2.582e-06  7.548e-03  7.548e-03  0.000e+00  0.000e+00  1.458e-02\n",
      "  26  AE     0  1.710e-04 -1.510e-02  2.582e-06  7.545e-03  7.545e-03  0.000e+00  0.000e+00  1.458e-02\n",
      "  27  AE     0  1.711e-04 -1.509e-02  2.582e-06  7.543e-03  7.543e-03  0.000e+00  0.000e+00  1.458e-02\n",
      "  28  AE     0  1.712e-04 -1.509e-02  2.272e-06  7.541e-03  7.540e-03  0.000e+00  3.099e-07  1.458e-02\n",
      "  29  AE     0  1.883e-04 -5.920e-01  2.250e-07  7.540e-03  7.540e-03  0.000e+00  0.000e+00  1.458e-02\n",
      "step args bktr   alpha       phi      delta_F       F          R          S          L        mean_E  \n",
      "\n",
      "Termination: min_delta_F (min_delta_F = 1.000000e-06)\n",
      "       F_0 = 5283.000000\n",
      "         F = 0.007540\n",
      "   delta_F = 2.250469e-07\n",
      "     steps = 29\n",
      "  run_time = 0.118870 seconds\n",
      "\n",
      " F function calls: 85\n",
      "dA function calls: 29\n",
      "dE function calls: 29\n",
      "\n",
      "step args bktr   alpha       phi      delta_F       F          R          S          L        mean_E  \n",
      "   0  -    -       -          -          -       5.283e+03  0.000e+00  0.000e+00  5.283e+03  0.000e+00\n",
      "   1  AE     8  6.938e-07 -8.455e+10  3.395e+03  1.888e+03  2.033e-02  0.000e+00  1.888e+03 -6.960e-03\n",
      "   2  AE     3  2.371e-06 -1.535e+09  1.616e+03  2.719e+02  1.477e-02  0.000e+00  2.719e+02  5.165e-03\n",
      "   3  AE     2  1.867e-05 -4.873e+07  1.331e+02  1.388e+02  1.454e-02  0.000e+00  1.388e+02  1.142e-02\n",
      "   4  AE     1  5.013e-06 -1.745e+08  6.127e+01  7.755e+01  1.686e-02  0.000e+00  7.753e+01  1.005e-02\n",
      "   5  AE     2  7.993e-06 -2.276e+07  6.013e+01  1.742e+01  1.595e-02  0.000e+00  1.740e+01  1.246e-02\n",
      "   6  A      5  1.115e-05 -3.100e+06  1.094e+01  6.479e+00  1.598e-02  0.000e+00  6.463e+00  1.246e-02\n",
      "   7  A      1  1.193e-05 -9.663e+05  5.149e+00  1.330e+00  1.581e-02  0.000e+00  1.314e+00  1.246e-02\n",
      "   8  A      1  1.322e-05 -3.644e+05  1.305e+00  2.481e-02  1.581e-02  0.000e+00  9.002e-03  1.246e-02\n",
      "   9  A      2  1.484e-04 -5.777e+03  8.878e-03  1.593e-02  1.593e-02  0.000e+00  0.000e+00  1.246e-02\n",
      "  10  A      8  1.922e-01 -3.186e-02  5.535e-03  1.040e-02  1.040e-02  0.000e+00  0.000e+00  1.246e-02\n",
      "  11  AE     0  7.993e-06 -2.079e-02  1.662e-07  1.040e-02  1.040e-02  0.000e+00  0.000e+00  1.246e-02\n",
      "  12  A      1  9.610e-02 -2.079e-02  1.902e-03  8.494e-03  8.494e-03  0.000e+00  0.000e+00  1.246e-02\n",
      "  13  A      7  8.776e-04 -1.699e-02  1.490e-05  8.479e-03  8.479e-03  0.000e+00  0.000e+00  1.246e-02\n",
      "  14  A      1  9.268e-05 -1.696e-02  1.572e-06  8.478e-03  8.478e-03  0.000e+00  0.000e+00  1.246e-02\n",
      "  15  A      0  9.270e-05 -1.696e-02  1.572e-06  8.476e-03  8.476e-03  0.000e+00  0.000e+00  1.246e-02\n",
      "  16  A      0  9.271e-05 -1.695e-02  1.465e-06  8.475e-03  8.474e-03  0.000e+00  1.066e-07  1.246e-02\n",
      "  17  E      0  1.000e-03 -4.441e-05  3.978e-08  8.475e-03  8.474e-03  0.000e+00  6.678e-08  1.245e-02\n",
      "  18  AE     0  7.993e-06 -1.343e-01  1.467e-07  8.474e-03  8.474e-03  0.000e+00  0.000e+00  1.245e-02\n",
      "  19  A      0  9.271e-05 -1.695e-02  1.571e-06  8.473e-03  8.473e-03  0.000e+00  0.000e+00  1.245e-02\n",
      "  20  A      0  9.273e-05 -1.695e-02  8.868e-07  8.472e-03  8.471e-03  0.000e+00  6.845e-07  1.245e-02\n",
      "step args bktr   alpha       phi      delta_F       F          R          S          L        mean_E  \n",
      "\n",
      "Termination: convergence\n",
      "       F_0 = 5283.000000\n",
      "         F = 0.008472\n",
      "   delta_F = 8.867999e-07\n",
      "     steps = 20\n",
      "  run_time = 0.079381 seconds\n",
      "\n",
      " F function calls: 63\n",
      "dA function calls: 19\n",
      "dE function calls: 8\n",
      "\n"
     ]
    }
   ],
   "source": [
    "import loss\n",
    "from mlnn import MLNN\n",
    "\n",
    "config = 3\n",
    "e_mode = 1\n",
    "\n",
    "r = 1\n",
    "s = 0\n",
    "l = 1\n",
    "inner = loss.SmoothReLU(.5)\n",
    "outer = loss.SmoothReLU(.5)\n",
    "\n",
    "alpha_0 = 1e-3\n",
    "armijo = 1e-6\n",
    "max_backtracks = 50\n",
    "\n",
    "min_delta_F = 1e-6\n",
    "max_steps = 100\n",
    "max_time = 1\n",
    "\n",
    "X = X_train_scaled\n",
    "Y = Y_train\n",
    "T = np.where(np.equal(Y.reshape(-1, 1), Y.reshape(1, -1)), 1, -1)\n",
    "N = np.sum(T == 1, axis=1) - 1\n",
    "\n",
    "sigma2 = 10 ** 1.12\n",
    "P = X @ X.T\n",
    "D = P.diagonal().reshape(-1, 1) + P.diagonal().reshape(1, -1) - 2 * P\n",
    "G = np.exp(D / (-2 * sigma2))\n",
    "\n",
    "n, d = X.shape\n",
    "\n",
    "if config == 1:\n",
    "    a_mode = 'WX'\n",
    "    A = np.zeros((d, d))\n",
    "    B = X\n",
    "elif config == 2:\n",
    "    a_mode = 'MX'\n",
    "    A = np.zeros((n, n))\n",
    "    B = X\n",
    "elif config == 3:\n",
    "    a_mode = 'MXX'\n",
    "    A = np.zeros((n, n))\n",
    "    B = P\n",
    "elif config == 4:\n",
    "    a_mode = 'MG'\n",
    "    A = np.zeros((n, n))\n",
    "    B = P\n",
    "elif config == 5:\n",
    "    a_mode = 'MXX'\n",
    "    A = np.zeros((n, n))\n",
    "    B = G\n",
    "elif config == 6:\n",
    "    a_mode = 'MG'\n",
    "    A = np.zeros((n, n))\n",
    "    B = G\n",
    "    \n",
    "if e_mode == 1:\n",
    "    E = np.zeros(1)\n",
    "elif e_mode == 2:\n",
    "    E = np.zeros(n)\n",
    "    \n",
    "mlnn_params = {\n",
    "    'r' : r,\n",
    "    's' : s,\n",
    "    'l' : l,\n",
    "    'inner' : inner,\n",
    "    'outer' : outer,\n",
    "    'a_mode' : a_mode,\n",
    "}\n",
    "\n",
    "line_search_params = {\n",
    "    'alpha_0' : alpha_0,\n",
    "    'armijo' : armijo,\n",
    "    'max_backtracks' : max_backtracks,\n",
    "}\n",
    "\n",
    "optimize_params = {\n",
    "    'min_delta_F': min_delta_F,\n",
    "    'max_steps' : max_steps,\n",
    "    'max_time' : max_time,\n",
    "}\n",
    "\n",
    "mlnn = MLNN(B, T, N, A, E, mlnn_params, line_search_params, optimize_params)\n",
    "mlnn.optimize(verbose=True)\n",
    "mlnn.minimize(verbose=True)"
   ]
  }
 ],
 "metadata": {
  "kernelspec": {
   "display_name": "Python 3 (ipykernel)",
   "language": "python",
   "name": "python3"
  },
  "language_info": {
   "codemirror_mode": {
    "name": "ipython",
    "version": 3
   },
   "file_extension": ".py",
   "mimetype": "text/x-python",
   "name": "python",
   "nbconvert_exporter": "python",
   "pygments_lexer": "ipython3",
   "version": "3.8.12"
  }
 },
 "nbformat": 4,
 "nbformat_minor": 4
}
